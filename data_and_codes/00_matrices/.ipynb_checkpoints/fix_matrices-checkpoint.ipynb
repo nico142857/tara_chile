{
 "cells": [
  {
   "cell_type": "code",
   "execution_count": 15,
   "id": "58495d81-8202-405c-b8e6-2d91b7cd0ec7",
   "metadata": {},
   "outputs": [
    {
     "name": "stdout",
     "output_type": "stream",
     "text": [
      "\n"
     ]
    }
   ],
   "source": [
    "import pandas as pd\n",
    "import os\n",
    "\n",
    "# Directorios de entrada y salida\n",
    "input_dir = 'regulation_sort'\n",
    "output_dir = 'regulation'\n",
    "\n",
    "# Lista de archivos para trasponer\n",
    "files_to_transpose = [\n",
    "    'Matrix_GEN_M0_all.tsv', 'Matrix_GEN_M1_all.tsv', 'Matrix_GEN_guidi_all.tsv',\n",
    "    'Matrix_GEN_salazar_all.tsv', 'Matrix_GEN_stress_all.tsv', 'Matrix_M0_all.tsv',\n",
    "    'Matrix_M1_all.tsv', 'Matrix_guidi_all.tsv', 'Matrix_salazar_all.tsv', 'Matrix_stress_all.tsv'\n",
    "]\n",
    "\n",
    "# Verificar si la carpeta de salida existe, si no, crearla\n",
    "if not os.path.exists(output_dir):\n",
    "    os.makedirs(output_dir)\n",
    "\n",
    "# Procesar cada archivo\n",
    "for filename in files_to_transpose:\n",
    "    input_path = os.path.join(input_dir, filename)\n",
    "    output_path = os.path.join(output_dir, filename)\n",
    "\n",
    "    # Leer el archivo\n",
    "    df = pd.read_csv(input_path, sep='\\t', index_col=0)\n",
    "    df = df.sort_index()\n",
    "    \n",
    "\n",
    "    # Guardar el dataframe transpuesto en el archivo de salida\n",
    "    df.to_csv(output_path, sep='\\t')\n",
    "\n",
    "print(\"\")\n"
   ]
  }
 ],
 "metadata": {
  "kernelspec": {
   "display_name": "Python 3 (ipykernel)",
   "language": "python",
   "name": "python3"
  },
  "language_info": {
   "codemirror_mode": {
    "name": "ipython",
    "version": 3
   },
   "file_extension": ".py",
   "mimetype": "text/x-python",
   "name": "python",
   "nbconvert_exporter": "python",
   "pygments_lexer": "ipython3",
   "version": "3.9.18"
  }
 },
 "nbformat": 4,
 "nbformat_minor": 5
}
