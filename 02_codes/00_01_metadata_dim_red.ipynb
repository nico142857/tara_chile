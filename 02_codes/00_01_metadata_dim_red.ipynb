{
 "cells": [
  {
   "cell_type": "code",
   "execution_count": 1,
   "id": "05a17ffa-1fb4-4793-90ba-6a2bde1a6713",
   "metadata": {},
   "outputs": [],
   "source": [
    "import pandas as pd\n",
    "import numpy as np\n",
    "\n",
    "import umap\n",
    "\n",
    "import os\n",
    "\n",
    "import matplotlib"
   ]
  },
  {
   "cell_type": "code",
   "execution_count": null,
   "id": "a2b2e8e1-de28-4521-ba63-73b78282e42d",
   "metadata": {},
   "outputs": [],
   "source": [
    "input_dir = '../01_data/00_metadata/'\n",
    "input_name = 'metadata_chile.tsv'\n",
    "\n",
    "file_name = os.path.join(input_dir, input_name)\n",
    "\n",
    "md = "
   ]
  }
 ],
 "metadata": {
  "kernelspec": {
   "display_name": "Python 3 (ipykernel)",
   "language": "python",
   "name": "python3"
  },
  "language_info": {
   "codemirror_mode": {
    "name": "ipython",
    "version": 3
   },
   "file_extension": ".py",
   "mimetype": "text/x-python",
   "name": "python",
   "nbconvert_exporter": "python",
   "pygments_lexer": "ipython3",
   "version": "3.9.18"
  }
 },
 "nbformat": 4,
 "nbformat_minor": 5
}
